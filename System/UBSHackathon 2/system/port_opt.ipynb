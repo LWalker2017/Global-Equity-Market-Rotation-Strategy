{
 "cells": [
  {
   "cell_type": "code",
   "execution_count": 74,
   "metadata": {
    "ExecuteTime": {
     "end_time": "2019-10-13T06:07:45.293547Z",
     "start_time": "2019-10-13T06:07:45.287015Z"
    }
   },
   "outputs": [],
   "source": [
    "import pandas as pd \n",
    "import numpy as np \n",
    "import pickle \n",
    "from gurobipy import * "
   ]
  },
  {
   "cell_type": "code",
   "execution_count": 75,
   "metadata": {
    "ExecuteTime": {
     "end_time": "2019-10-13T06:07:45.305341Z",
     "start_time": "2019-10-13T06:07:45.299073Z"
    }
   },
   "outputs": [],
   "source": [
    "DATA_PATH = '../data/'"
   ]
  },
  {
   "cell_type": "code",
   "execution_count": 76,
   "metadata": {
    "ExecuteTime": {
     "end_time": "2019-10-13T06:07:45.318907Z",
     "start_time": "2019-10-13T06:07:45.310692Z"
    }
   },
   "outputs": [],
   "source": [
    "# model param\n",
    "model_param_dict = {\n",
    "    'theta': 0.5, # theta means the obj weights in alpha, i.e how importance is alpha in the obj\n",
    "    'market_ub': 0.5, \n",
    "    'market_lb': 0, \n",
    "    'weight_ub': 0.05,  # buy 20 stocks at least\n",
    "    'weight_lb': 0,  # buy 100 stocks at most\n",
    "    'trans_cost': 0.01, \n",
    "    'bigM': 10, \n",
    "    'sector_ub': 0.3, \n",
    "    'sector_lb': 0.01\n",
    "}"
   ]
  },
  {
   "cell_type": "markdown",
   "metadata": {},
   "source": [
    "# Data Prep"
   ]
  },
  {
   "cell_type": "code",
   "execution_count": 77,
   "metadata": {
    "ExecuteTime": {
     "end_time": "2019-10-13T06:07:45.483348Z",
     "start_time": "2019-10-13T06:07:45.322918Z"
    }
   },
   "outputs": [
    {
     "ename": "EOFError",
     "evalue": "Ran out of input",
     "output_type": "error",
     "traceback": [
      "\u001b[0;31m---------------------------------------------------------------------------\u001b[0m",
      "\u001b[0;31mEOFError\u001b[0m                                  Traceback (most recent call last)",
      "\u001b[0;32m<ipython-input-77-bdb6bac1709e>\u001b[0m in \u001b[0;36m<module>\u001b[0;34m\u001b[0m\n\u001b[1;32m     21\u001b[0m \u001b[0;31m# alpha\u001b[0m\u001b[0;34m\u001b[0m\u001b[0;34m\u001b[0m\u001b[0;34m\u001b[0m\u001b[0m\n\u001b[1;32m     22\u001b[0m \u001b[0;32mwith\u001b[0m \u001b[0mopen\u001b[0m\u001b[0;34m(\u001b[0m\u001b[0mDATA_PATH\u001b[0m \u001b[0;34m+\u001b[0m \u001b[0;34m'alpha.pkl'\u001b[0m\u001b[0;34m,\u001b[0m \u001b[0;34m'rb'\u001b[0m\u001b[0;34m)\u001b[0m \u001b[0;32mas\u001b[0m \u001b[0mfile\u001b[0m\u001b[0;34m:\u001b[0m\u001b[0;34m\u001b[0m\u001b[0;34m\u001b[0m\u001b[0m\n\u001b[0;32m---> 23\u001b[0;31m     \u001b[0malpha_dict\u001b[0m \u001b[0;34m=\u001b[0m \u001b[0mpickle\u001b[0m\u001b[0;34m.\u001b[0m\u001b[0mload\u001b[0m\u001b[0;34m(\u001b[0m\u001b[0mfile\u001b[0m\u001b[0;34m)\u001b[0m\u001b[0;34m\u001b[0m\u001b[0;34m\u001b[0m\u001b[0m\n\u001b[0m\u001b[1;32m     24\u001b[0m \u001b[0;34m\u001b[0m\u001b[0m\n\u001b[1;32m     25\u001b[0m data_dict = {\n",
      "\u001b[0;31mEOFError\u001b[0m: Ran out of input"
     ]
    }
   ],
   "source": [
    "# stock name arr \n",
    "with open(DATA_PATH + 'stock_name_arr.pkl', 'rb') as file:\n",
    "    stock_name_arr = pickle.load(file)\n",
    "\n",
    "# Stock time arr \n",
    "with open(DATA_PATH + 'stock_time_arr.pkl', 'rb') as file:\n",
    "    stock_time_arr = pickle.load(file)\n",
    "    \n",
    "# Covariance matrix \n",
    "with open(DATA_PATH + 'cov_mat.pkl', 'rb') as file:\n",
    "    cov_mat_arr = pickle.load(file)\n",
    "\n",
    "# market dict\n",
    "with open(DATA_PATH + 'market_dict.pkl', 'rb') as file:\n",
    "    market_dict = pickle.load(file)\n",
    "    \n",
    "# sector dict\n",
    "with open(DATA_PATH + 'sector_dict.pkl', 'rb') as file:\n",
    "    sector_dict = pickle.load(file) \n",
    "    \n",
    "# alpha \n",
    "with open(DATA_PATH + 'alpha.pkl', 'rb') as file:\n",
    "    alpha_dict = pickle.load(file)\n",
    "    \n",
    "data_dict = {\n",
    "    'stock_time_arr': stock_time_arr, \n",
    "    'stock_name_arr': stock_name_arr, \n",
    "    'cov_mat_arr': cov_mat_arr, \n",
    "    'market_dict': market_dict, \n",
    "    'sector_dict': sector_dict, \n",
    "    'alpha_dict': alpha_dict\n",
    "}"
   ]
  },
  {
   "cell_type": "markdown",
   "metadata": {},
   "source": [
    "# Model"
   ]
  },
  {
   "cell_type": "code",
   "execution_count": null,
   "metadata": {
    "ExecuteTime": {
     "end_time": "2019-10-13T06:07:45.503484Z",
     "start_time": "2019-10-13T06:07:45.303Z"
    },
    "code_folding": [
     26,
     29,
     35,
     100
    ]
   },
   "outputs": [],
   "source": [
    "class PortOpt:\n",
    "    def __init__(self, data_dict, p_dict, init_port_=None):\n",
    "        # params retrieve\n",
    "        self.theta = p_dict['theta']\n",
    "        self.market_ub = p_dict['market_ub']\n",
    "        self.market_lb = p_dict['market_lb']\n",
    "        self.weight_ub = p_dict['weight_ub']\n",
    "        self.weight_lb = p_dict['weight_lb']\n",
    "        self.sector_ub = p_dict['sector_ub']\n",
    "        self.sector_lb = p_dict['sector_lb']\n",
    "        self.trans_cost = p_dict['trans_cost']\n",
    "        self.bigM = p_dict['bigM']\n",
    "    \n",
    "        # stock and market information retrieve\n",
    "        self.stock_arr = data_dict['stock_name_arr']  # index of w\n",
    "        self.stock_idx_arr = np.arange(0, len(self.stock_arr))\n",
    "        \n",
    "        self.alpha_dict = data_dict['alpha_dict']\n",
    "        self.alpha_idx_dict = {}\n",
    "        for idx in self.stock_idx_arr:\n",
    "            key = self.stock_arr[idx]\n",
    "            self.alpha_idx_dict[idx] = self.alpha_dict[key]\n",
    "        self.cov_mat_arr = data_dict['cov_mat_arr']\n",
    "        \n",
    "        self.sector_dict = data_dict['sector_dict']\n",
    "        self.sector_idx_dict = {}\n",
    "        for key in self.sector_dict:\n",
    "            arr = self.sector_dict[key]\n",
    "            self.sector_idx_dict[key] = [np.where(self.stock_arr==i)[0][0] for i in arr]\n",
    "            \n",
    "        self.market_dict = data_dict['market_dict']\n",
    "        self.market_idx_dict = {}\n",
    "        for key in self.market_dict:\n",
    "            arr = self.market_dict[key]\n",
    "            self.market_idx_dict[key] = [np.where(self.stock_arr==i)[0][0] for i in arr]\n",
    "        \n",
    "        # port model \n",
    "        self.model = Model('Port Opt Model')\n",
    "        self.init_port = init_port_\n",
    "        self.var_dict = {} \n",
    "        self.__model_init()\n",
    "\n",
    "    def optimize(self):\n",
    "        self.model.optimize()\n",
    "        \n",
    "    def __model_init(self):\n",
    "        self.__create_vars()\n",
    "        self.__create_constrs()\n",
    "        self.__create_obj()\n",
    "        self.model.update()\n",
    "\n",
    "    def __get_market_stock(self):  # TODO\n",
    "        # return dict of arrays\n",
    "        # keys of dict is the same as msci_dict\n",
    "        pass  \n",
    "        \n",
    "    def __create_vars(self):\n",
    "        # portfolio weights\n",
    "#         self.var_dict['w'] = self.model.addVars(self.stock_idx_arr, vtype=GRB.CONTINUOUS, lb=0.0, name='w')\n",
    "        self.var_dict['w'] = pd.Series(self.model.addVars(self.stock_idx_arr, name='w', lb=0.0, vtype=GRB.CONTINUOUS), index=self.stock_idx_arr)\n",
    "        # portfolio change\n",
    "        if self.init_port is None:\n",
    "            pass \n",
    "        else:\n",
    "            # portfolio change = last port - current port (only consider the sells part)\n",
    "            self.var_dict['y'] = self.model.addVars(self.stock_idx_arr, vtype=GRB.CONTINUOUS, lb=0.0, name='y')\n",
    "\n",
    "            # artificial var \n",
    "            self.var_dict['z'] = self.model.addVars(self.stock_idx_arr, vtype=GRB.BINARY, name='z')\n",
    "        \n",
    "        self.model.update()\n",
    "        \n",
    "    def __create_constrs(self):\n",
    "        # 1 weights normalization\n",
    "        self.model.addConstr(sum([self.var_dict['w'][i] for i in self.stock_idx_arr]) == 1, name='1_weights_normalization')\n",
    "        \n",
    "        # 2 limit weights per market\n",
    "        for key in self.market_idx_dict:\n",
    "            market_arr = self.market_idx_dict[key]\n",
    "            self.model.addConstr((sum([self.var_dict['w'][i] for i in market_arr]) <= self.market_ub), name='2_1_weights_{}_market_ub'.format(key))\n",
    "            self.model.addConstr((sum([self.var_dict['w'][i] for i in market_arr]) >= self.market_lb), name='2_1_weights_{}_market_lb'.format(key))\n",
    "        \n",
    "        # 3 limit weights per share \n",
    "        self.model.addConstrs((self.var_dict['w'][i] <= self.weight_ub for i in self.stock_idx_arr), name='3_weight_per_asset_ub')\n",
    "        \n",
    "        # 4 y = max{0, init_port - current port}\n",
    "        if self.init_port is None:\n",
    "            pass \n",
    "        else:\n",
    "            self.model.addConstrs((self.init_port[i] - self.var_dict['w'][i] <= self.bigM * (1 - self.var_dict['z']) for i in self.stock_idx_arr), name='4c{}'.format(i))\n",
    "            self.model.addConstrs((-self.var_dict['y'][i] + self.init_port[i] - self.var_dict['w'][i] <= self.bigM * self.var_dict['z'] for i in selff.stock_idx_arr), name='4b{}'.format(i))\n",
    "            self.model.addConstrs((self.var_dict['y'][i] - self.init_port[i] + self.var_dict['w'][i] <= self.bigM * self.var_dict['z'] for i in selff.stock_idx_arr), name='4a{}'.format(i))\n",
    "\n",
    "        # 5 limit weights per sector\n",
    "        for key in self.sector_idx_dict:\n",
    "            sector_arr = self.sector_idx_dict[key]\n",
    "            self.model.addConstr((sum([self.var_dict['w'][i] for i in sector_arr]) <= self.sector_ub), name='5_weights_{}_sector_ub'.format(key))\n",
    "            self.model.addConstr((sum([self.var_dict['w'][i] for i in sector_arr]) >= self.sector_lb), name='5_weights_{}_sector_lb'.format(key))\n",
    "        \n",
    "        self.model.update()\n",
    "\n",
    "    def __create_obj(self):\n",
    "        print(0)\n",
    "#         min_obj = np.sum([self.var_dict['w'][i] * self.var_dict['w'][j] * self.cov_mat_arr[i, j] for i in self.stock_idx_arr for j in self.stock_idx_arr])\n",
    "        min_obj = self.cov_mat_arr.dot(self.var_dict['w']).dot(self.var_dict['w'])\n",
    "        print(1)\n",
    "#         max_obj = np.sum([(self.alpha_idx_dict[i] * self.var_dict['w'][i]) for i in self.stock_idx_arr])\n",
    "        max_obj = np.array(list(data_dict['alpha_dict'].values())).dot(self.var_dict['w'])\n",
    "        print(2)\n",
    "        # transaction cost\n",
    "        if self.init_port is None:\n",
    "            cost = 0 \n",
    "        else:\n",
    "            cost = np.sum([self.var_dict['y'][i] * self.trans_cost for i in self.stock_idx_arr])\n",
    "\n",
    "        obj = self.theta * (max_obj - cost) - (1 - self.theta) * min_obj\n",
    "        \n",
    "        self.model.setObjective(obj, GRB.MAXIMIZE)\n",
    "        self.model.update()\n",
    "    \n",
    "    def get_results(self):\n",
    "        temp_results_list = [self.var_dict['w'][i].x for i in self.stock_idx_arr]\n",
    "        results_arr = []\n",
    "        for i in temp_results_list:\n",
    "            if i > 1e-10: \n",
    "                results_arr.append(i)\n",
    "            else:\n",
    "                results_arr.append(0)\n",
    "        return self.stock_arr, np.array(results_arr)"
   ]
  },
  {
   "cell_type": "code",
   "execution_count": null,
   "metadata": {
    "ExecuteTime": {
     "end_time": "2019-10-13T06:07:45.509446Z",
     "start_time": "2019-10-13T06:07:45.309Z"
    }
   },
   "outputs": [],
   "source": [
    "port = PortOpt(data_dict, model_param_dict)"
   ]
  },
  {
   "cell_type": "markdown",
   "metadata": {},
   "source": [
    "# Backtest"
   ]
  },
  {
   "cell_type": "code",
   "execution_count": null,
   "metadata": {
    "ExecuteTime": {
     "end_time": "2019-10-13T06:07:45.512942Z",
     "start_time": "2019-10-13T06:07:45.312Z"
    }
   },
   "outputs": [],
   "source": [
    "port.optimize()\n",
    "if port.model.Status == 4:\n",
    "    port.model.computeIIS()\n",
    "    port.model.write('IIS.ilp')"
   ]
  },
  {
   "cell_type": "code",
   "execution_count": null,
   "metadata": {
    "ExecuteTime": {
     "end_time": "2019-10-13T06:07:45.517684Z",
     "start_time": "2019-10-13T06:07:45.317Z"
    }
   },
   "outputs": [],
   "source": [
    "stock_arr, results_arr = port.get_results()"
   ]
  },
  {
   "cell_type": "code",
   "execution_count": null,
   "metadata": {
    "ExecuteTime": {
     "end_time": "2019-10-13T06:07:45.521647Z",
     "start_time": "2019-10-13T06:07:45.324Z"
    }
   },
   "outputs": [],
   "source": [
    "l = [port.var_dict['w'][i].x for i in port.stock_idx_arr]"
   ]
  },
  {
   "cell_type": "code",
   "execution_count": null,
   "metadata": {
    "ExecuteTime": {
     "end_time": "2019-10-13T06:07:45.529747Z",
     "start_time": "2019-10-13T06:07:45.328Z"
    }
   },
   "outputs": [],
   "source": [
    "len([i for i in port.stock_idx_arr if l[i] > 1e-10])"
   ]
  },
  {
   "cell_type": "code",
   "execution_count": null,
   "metadata": {},
   "outputs": [],
   "source": []
  }
 ],
 "metadata": {
  "kernelspec": {
   "display_name": "Python 3",
   "language": "python",
   "name": "python3"
  },
  "language_info": {
   "codemirror_mode": {
    "name": "ipython",
    "version": 3
   },
   "file_extension": ".py",
   "mimetype": "text/x-python",
   "name": "python",
   "nbconvert_exporter": "python",
   "pygments_lexer": "ipython3",
   "version": "3.7.3"
  },
  "toc": {
   "base_numbering": 1,
   "nav_menu": {},
   "number_sections": true,
   "sideBar": true,
   "skip_h1_title": false,
   "title_cell": "Table of Contents",
   "title_sidebar": "Contents",
   "toc_cell": false,
   "toc_position": {},
   "toc_section_display": true,
   "toc_window_display": false
  },
  "varInspector": {
   "cols": {
    "lenName": 16,
    "lenType": 16,
    "lenVar": 40
   },
   "kernels_config": {
    "python": {
     "delete_cmd_postfix": "",
     "delete_cmd_prefix": "del ",
     "library": "var_list.py",
     "varRefreshCmd": "print(var_dic_list())"
    },
    "r": {
     "delete_cmd_postfix": ") ",
     "delete_cmd_prefix": "rm(",
     "library": "var_list.r",
     "varRefreshCmd": "cat(var_dic_list()) "
    }
   },
   "types_to_exclude": [
    "module",
    "function",
    "builtin_function_or_method",
    "instance",
    "_Feature"
   ],
   "window_display": false
  }
 },
 "nbformat": 4,
 "nbformat_minor": 2
}
