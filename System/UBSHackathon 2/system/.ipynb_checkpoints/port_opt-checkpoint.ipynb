{
 "cells": [
  {
   "cell_type": "code",
   "execution_count": 1,
   "metadata": {
    "ExecuteTime": {
     "end_time": "2019-10-13T04:47:42.594156Z",
     "start_time": "2019-10-13T04:47:40.544625Z"
    }
   },
   "outputs": [],
   "source": [
    "import pandas as pd \n",
    "import numpy as np \n",
    "import pickle \n",
    "from gurobipy import * "
   ]
  },
  {
   "cell_type": "code",
   "execution_count": 2,
   "metadata": {
    "ExecuteTime": {
     "end_time": "2019-10-13T04:47:42.709562Z",
     "start_time": "2019-10-13T04:47:42.703083Z"
    }
   },
   "outputs": [],
   "source": [
    "DATA_PATH = '../data/'"
   ]
  },
  {
   "cell_type": "code",
   "execution_count": 39,
   "metadata": {
    "ExecuteTime": {
     "end_time": "2019-10-13T05:15:33.534942Z",
     "start_time": "2019-10-13T05:15:33.528319Z"
    }
   },
   "outputs": [],
   "source": [
    "# config\n",
    "# stock_pool_df col names\n",
    "stock_name = 'ric'\n",
    "alpha_name = 'alpha'\n",
    "\n",
    "# model param\n",
    "model_param_dict = {\n",
    "    'theta': 0.5, # theta means the obj weights in alpha, i.e how importance is alpha in the obj\n",
    "    'market_ub': 0.5, \n",
    "    'market_lb': 0, \n",
    "    'weight_ub': 0.05,  # buy 20 stocks at least\n",
    "    'weight_lb': 0,  # buy 100 stocks at most\n",
    "    'trans_cost': 0.01, \n",
    "    'bigM': 10, \n",
    "    'sector_ub': 0.3, \n",
    "    'sector_lb': 0.01\n",
    "}"
   ]
  },
  {
   "cell_type": "markdown",
   "metadata": {},
   "source": [
    "# Data Prep"
   ]
  },
  {
   "cell_type": "code",
   "execution_count": 40,
   "metadata": {
    "ExecuteTime": {
     "end_time": "2019-10-13T05:15:47.960693Z",
     "start_time": "2019-10-13T05:15:47.841460Z"
    }
   },
   "outputs": [],
   "source": [
    "# stock name arr \n",
    "with open(DATA_PATH + 'stock_name_arr.pkl', 'rb') as file:\n",
    "    stock_name_arr = pickle.load(file)\n",
    "\n",
    "# Stock time arr \n",
    "with open(DATA_PATH + 'stock_time_arr.pkl', 'rb') as file:\n",
    "    stock_time_arr = pickle.load(file)\n",
    "    \n",
    "# Covariance matrix \n",
    "with open(DATA_PATH + 'cov_mat.pkl', 'rb') as file:\n",
    "    cov_mat_arr = pickle.load(file)\n",
    "\n",
    "# market dict\n",
    "with open(DATA_PATH + 'market_dict.pkl', 'rb') as file:\n",
    "    market_dict = pickle.load(file)\n",
    "    \n",
    "# sector dict\n",
    "with open(DATA_PATH + 'sector_dict.pkl', 'rb') as file:\n",
    "    sector_dict = pickle.load(file) \n",
    "    \n",
    "# alpha \n",
    "with open(DATA_PATH + 'alpha.pkl', 'rb') as file:\n",
    "    alpha_dict = pickle.load(file)\n",
    "    \n",
    "data_dict = {\n",
    "    'stock_time_arr': stock_time_arr, \n",
    "    'stock_name_arr': stock_name_arr, \n",
    "    'cov_mat_arr': cov_mat_arr, \n",
    "    'market_dict': market_dict, \n",
    "    'sector_dict': sector_dict, \n",
    "    'alpha_dict': alpha_dict\n",
    "}"
   ]
  },
  {
   "cell_type": "markdown",
   "metadata": {},
   "source": [
    "# Model"
   ]
  },
  {
   "cell_type": "code",
   "execution_count": 53,
   "metadata": {
    "ExecuteTime": {
     "end_time": "2019-10-13T05:26:55.601629Z",
     "start_time": "2019-10-13T05:26:55.548128Z"
    },
    "code_folding": [
     26,
     29,
     35,
     100
    ]
   },
   "outputs": [],
   "source": [
    "class PortOpt:\n",
    "    def __init__(self, data_dict, p_dict, init_port_=None):\n",
    "        # params retrieve\n",
    "        self.theta = p_dict['theta']\n",
    "        self.market_ub = p_dict['market_ub']\n",
    "        self.market_lb = p_dict['market_lb']\n",
    "        self.weight_ub = p_dict['weight_ub']\n",
    "        self.weight_lb = p_dict['weight_lb']\n",
    "        self.sector_ub = p_dict['sector_ub']\n",
    "        self.sector_lb = p_dict['sector_lb']\n",
    "        self.trans_cost = p_dict['trans_cost']\n",
    "        self.bigM = p_dict['bigM']\n",
    "    \n",
    "        # stock and market information retrieve\n",
    "        self.stock_arr = data_dict['stock_name_arr']  # index of w\n",
    "        self.stock_idx_arr = np.arange(0, len(self.stock_arr))\n",
    "        \n",
    "        self.alpha_dict = data_dict['alpha_dict']\n",
    "        self.alpha_idx_dict = {}\n",
    "        for idx in self.stock_idx_arr:\n",
    "            key = self.stock_arr[idx]\n",
    "            self.alpha_idx_dict[idx] = self.alpha_dict[key]\n",
    "        self.cov_mat_arr = data_dict['cov_mat_arr']\n",
    "        \n",
    "        self.sector_dict = data_dict['sector_dict']\n",
    "        self.sector_idx_dict = {}\n",
    "        for key in self.sector_dict:\n",
    "            arr = self.sector_dict[key]\n",
    "            self.sector_idx_dict[key] = [np.where(self.stock_arr==i)[0][0] for i in arr]\n",
    "            \n",
    "        self.market_dict = data_dict['market_dict']\n",
    "        self.market_idx_dict = {}\n",
    "        for key in self.market_dict:\n",
    "            arr = self.market_dict[key]\n",
    "            self.market_idx_dict[key] = [np.where(self.stock_arr==i)[0][0] for i in arr]\n",
    "        \n",
    "        # port model \n",
    "        self.model = Model('Port Opt Model')\n",
    "        self.init_port = init_port_\n",
    "        self.var_dict = {} \n",
    "        self.__model_init()\n",
    "\n",
    "    def optimize(self):\n",
    "        self.model.optimize()\n",
    "        \n",
    "    def __model_init(self):\n",
    "        self.__create_vars()\n",
    "        self.__create_constrs()\n",
    "        self.__create_obj()\n",
    "        self.model.update()\n",
    "\n",
    "    def __get_market_stock(self):  # TODO\n",
    "        # return dict of arrays\n",
    "        # keys of dict is the same as msci_dict\n",
    "        pass  \n",
    "        \n",
    "    def __create_vars(self):\n",
    "        # portfolio weights\n",
    "#         self.var_dict['w'] = self.model.addVars(self.stock_idx_arr, vtype=GRB.CONTINUOUS, lb=0.0, name='w')\n",
    "        self.var_dict['w'] = pd.Series(self.model.addVars(self.stock_idx_arr, name='w', lb=0.0, vtype=GRB.CONTINUOUS), index=self.stock_idx_arr)\n",
    "        # portfolio change\n",
    "        if self.init_port is None:\n",
    "            pass \n",
    "        else:\n",
    "            # portfolio change = last port - current port (only consider the sells part)\n",
    "            self.var_dict['y'] = self.model.addVars(self.stock_idx_arr, vtype=GRB.CONTINUOUS, lb=0.0, name='y')\n",
    "\n",
    "            # artificial var \n",
    "            self.var_dict['z'] = self.model.addVars(self.stock_idx_arr, vtype=GRB.BINARY, name='z')\n",
    "        \n",
    "        self.model.update()\n",
    "        \n",
    "    def __create_constrs(self):\n",
    "        # 1 weights normalization\n",
    "        self.model.addConstr(sum([self.var_dict['w'][i] for i in self.stock_idx_arr]) == 1, name='1_weights_normalization')\n",
    "        \n",
    "        # 2 limit weights per market\n",
    "        for key in self.market_idx_dict:\n",
    "            market_arr = self.market_idx_dict[key]\n",
    "            self.model.addConstr((sum([self.var_dict['w'][i] for i in market_arr]) <= self.market_ub), name='2_1_weights_{}_market_ub'.format(key))\n",
    "            self.model.addConstr((sum([self.var_dict['w'][i] for i in market_arr]) >= self.market_lb), name='2_1_weights_{}_market_lb'.format(key))\n",
    "        \n",
    "        # 3 limit weights per share \n",
    "        self.model.addConstrs((self.var_dict['w'][i] <= self.weight_ub for i in self.stock_idx_arr), name='3_weight_per_asset_ub')\n",
    "        \n",
    "        # 4 y = max{0, init_port - current port}\n",
    "        if self.init_port is None:\n",
    "            pass \n",
    "        else:\n",
    "            self.model.addConstrs((self.init_port[i] - self.var_dict['w'][i] <= self.bigM * (1 - self.var_dict['z']) for i in self.stock_idx_arr), name='4c{}'.format(i))\n",
    "            self.model.addConstrs((-self.var_dict['y'][i] + self.init_port[i] - self.var_dict['w'][i] <= self.bigM * self.var_dict['z'] for i in selff.stock_idx_arr), name='4b{}'.format(i))\n",
    "            self.model.addConstrs((self.var_dict['y'][i] - self.init_port[i] + self.var_dict['w'][i] <= self.bigM * self.var_dict['z'] for i in selff.stock_idx_arr), name='4a{}'.format(i))\n",
    "\n",
    "        # 5 limit weights per sector\n",
    "        for key in self.sector_idx_dict:\n",
    "            sector_arr = self.sector_idx_dict[key]\n",
    "            self.model.addConstr((sum([self.var_dict['w'][i] for i in sector_arr]) <= self.sector_ub), name='5_weights_{}_sector_ub'.format(key))\n",
    "            self.model.addConstr((sum([self.var_dict['w'][i] for i in sector_arr]) >= self.sector_lb), name='5_weights_{}_sector_lb'.format(key))\n",
    "        \n",
    "        self.model.update()\n",
    "\n",
    "    def __create_obj(self):\n",
    "        print(0)\n",
    "#         min_obj = np.sum([self.var_dict['w'][i] * self.var_dict['w'][j] * self.cov_mat_arr[i, j] for i in self.stock_idx_arr for j in self.stock_idx_arr])\n",
    "        min_obj = self.cov_mat_arr.dot(self.var_dict['w']).dot(self.var_dict['w'])\n",
    "        print(1)\n",
    "#         max_obj = np.sum([(self.alpha_idx_dict[i] * self.var_dict['w'][i]) for i in self.stock_idx_arr])\n",
    "        max_obj = np.array(list(data_dict['alpha_dict'].values())).dot(self.var_dict['w'])\n",
    "        print(2)\n",
    "        # transaction cost\n",
    "        if self.init_port is None:\n",
    "            cost = 0 \n",
    "        else:\n",
    "            cost = np.sum([self.var_dict['y'][i] * self.trans_cost for i in self.stock_idx_arr])\n",
    "\n",
    "        obj = self.theta * (max_obj - cost) - (1 - self.theta) * min_obj\n",
    "        \n",
    "        self.model.setObjective(obj, GRB.MAXIMIZE)\n",
    "        self.model.update()\n",
    "    \n",
    "    def get_results(self):\n",
    "        temp_results_list = [self.var_dict['w'][i].x for i in self.stock_idx_arr]\n",
    "        results_arr = []\n",
    "        for i in temp_results_list:\n",
    "            if i > 1e-10: \n",
    "                results_arr.append(i)\n",
    "            else:\n",
    "                results_arr.append(0)\n",
    "        return self.stock_arr, np.array(results_arr)"
   ]
  },
  {
   "cell_type": "code",
   "execution_count": 54,
   "metadata": {
    "ExecuteTime": {
     "end_time": "2019-10-13T05:29:37.298677Z",
     "start_time": "2019-10-13T05:26:55.856670Z"
    }
   },
   "outputs": [
    {
     "name": "stdout",
     "output_type": "stream",
     "text": [
      "0\n",
      "1\n",
      "2\n"
     ]
    }
   ],
   "source": [
    "port = PortOpt(data_dict, model_param_dict)"
   ]
  },
  {
   "cell_type": "markdown",
   "metadata": {},
   "source": [
    "# Backtest"
   ]
  },
  {
   "cell_type": "code",
   "execution_count": 55,
   "metadata": {
    "ExecuteTime": {
     "end_time": "2019-10-13T05:29:41.046717Z",
     "start_time": "2019-10-13T05:29:37.496442Z"
    }
   },
   "outputs": [
    {
     "name": "stdout",
     "output_type": "stream",
     "text": [
      "Optimize a model with 2019 rows, 1960 columns and 11760 nonzeros\n",
      "Model has 1921780 quadratic objective terms\n",
      "Coefficient statistics:\n",
      "  Matrix range     [1e+00, 1e+00]\n",
      "  Objective range  [4e-10, 5e-01]\n",
      "  QObjective range [5e-11, 2e-01]\n",
      "  Bounds range     [0e+00, 0e+00]\n",
      "  RHS range        [1e-02, 1e+00]\n",
      "Presolve removed 1994 rows and 0 columns\n",
      "Presolve time: 0.43s\n",
      "Presolved: 25 rows, 1970 columns, 5873 nonzeros\n",
      "Presolved model has 1921780 quadratic objective terms\n",
      "Ordering time: 0.00s\n",
      "\n",
      "Barrier statistics:\n",
      " Free vars  : 519\n",
      " AA' NZ     : 1.465e+05\n",
      " Factor NZ  : 1.474e+05 (roughly 2 MBytes of memory)\n",
      " Factor Ops : 5.326e+07 (less than 1 second per iteration)\n",
      " Threads    : 2\n",
      "\n",
      "                  Objective                Residual\n",
      "Iter       Primal          Dual         Primal    Dual     Compl     Time\n",
      "   0  -1.22813575e+04  1.00899693e+05  1.96e+06 4.55e-06  1.00e+06     1s\n",
      "   1  -1.56422261e+02  1.07309574e+05  2.46e+04 5.71e-08  1.28e+04     2s\n",
      "   2  -1.78475371e-01  1.06357101e+05  2.74e+01 6.36e-11  4.10e+01     2s\n",
      "   3  -2.32174522e-02  2.46037471e+04  2.91e+00 6.76e-12  7.19e+00     2s\n",
      "   4  -6.19510879e-03  1.46473241e+03  2.25e-03 4.33e-13  3.71e-01     2s\n",
      "   5  -6.18023178e-03  1.71611171e+00  3.99e-07 3.61e-13  4.36e-04     2s\n",
      "   6  -5.69651553e-03  2.49444538e-01  5.74e-08 5.20e-14  6.45e-05     2s\n",
      "   7   1.00170848e-03  1.79977514e-01  3.61e-08 3.26e-14  4.53e-05     2s\n",
      "   8   2.94417718e-03  1.44675115e-01  2.77e-08 2.51e-14  3.58e-05     2s\n",
      "   9   5.80993057e-03  1.21103981e-01  2.24e-08 2.03e-14  2.92e-05     2s\n",
      "  10   1.00579631e-02  7.87295497e-02  5.37e-09 4.85e-15  1.74e-05     2s\n",
      "  11   1.51847504e-02  6.24504882e-02  3.22e-09 2.92e-15  1.20e-05     2s\n",
      "  12   1.75361653e-02  5.70718077e-02  2.64e-09 2.39e-15  1.00e-05     3s\n",
      "  13   1.97648594e-02  5.33331632e-02  2.15e-09 1.94e-15  8.49e-06     3s\n",
      "  14   2.34646424e-02  4.87175102e-02  1.55e-09 1.40e-15  6.39e-06     3s\n",
      "  15   2.60662249e-02  4.55229397e-02  1.16e-09 1.05e-15  4.92e-06     3s\n",
      "  16   2.80116070e-02  4.34178500e-02  8.75e-10 7.90e-16  3.90e-06     3s\n",
      "  17   3.05789492e-02  3.99935244e-02  4.99e-10 4.53e-16  2.38e-06     3s\n",
      "  18   3.24925392e-02  3.80532784e-02  2.73e-10 2.48e-16  1.41e-06     3s\n",
      "  19   3.34516947e-02  3.70936948e-02  1.58e-10 1.43e-16  9.21e-07     3s\n",
      "  20   3.46666488e-02  3.58384535e-02  2.63e-11 5.55e-17  2.96e-07     3s\n",
      "  21   3.50194480e-02  3.54395519e-02  1.24e-14 2.78e-17  1.06e-07     3s\n",
      "  22   3.52294034e-02  3.52311969e-02  1.78e-15 3.47e-17  4.54e-10     3s\n",
      "  23   3.52303112e-02  3.52303130e-02  1.67e-16 2.08e-17  4.54e-13     4s\n",
      "\n",
      "Barrier solved model in 23 iterations and 3.54 seconds\n",
      "Optimal objective 3.52303112e-02\n",
      "\n"
     ]
    }
   ],
   "source": [
    "port.optimize()\n",
    "if port.model.Status == 4:\n",
    "    port.model.computeIIS()\n",
    "    port.model.write('IIS.ilp')"
   ]
  },
  {
   "cell_type": "code",
   "execution_count": 56,
   "metadata": {
    "ExecuteTime": {
     "end_time": "2019-10-13T05:29:41.238127Z",
     "start_time": "2019-10-13T05:29:41.221788Z"
    }
   },
   "outputs": [
    {
     "ename": "TypeError",
     "evalue": "float() argument must be a string or a number, not 'gurobipy.LinExpr'",
     "output_type": "error",
     "traceback": [
      "\u001b[0;31m---------------------------------------------------------------------------\u001b[0m",
      "\u001b[0;31mTypeError\u001b[0m                                 Traceback (most recent call last)",
      "\u001b[0;32m<ipython-input-56-2f7207e4f6aa>\u001b[0m in \u001b[0;36m<module>\u001b[0;34m\u001b[0m\n\u001b[0;32m----> 1\u001b[0;31m \u001b[0mport\u001b[0m\u001b[0;34m.\u001b[0m\u001b[0mget_results\u001b[0m\u001b[0;34m(\u001b[0m\u001b[0;34m)\u001b[0m\u001b[0;34m\u001b[0m\u001b[0;34m\u001b[0m\u001b[0m\n\u001b[0m",
      "\u001b[0;32m<ipython-input-53-6457113362e7>\u001b[0m in \u001b[0;36mget_results\u001b[0;34m(self)\u001b[0m\n\u001b[1;32m    122\u001b[0m         \u001b[0mresults_arr\u001b[0m \u001b[0;34m=\u001b[0m \u001b[0mnp\u001b[0m\u001b[0;34m.\u001b[0m\u001b[0mzeros\u001b[0m\u001b[0;34m(\u001b[0m\u001b[0mself\u001b[0m\u001b[0;34m.\u001b[0m\u001b[0mstock_arr\u001b[0m\u001b[0;34m.\u001b[0m\u001b[0msize\u001b[0m\u001b[0;34m)\u001b[0m\u001b[0;34m\u001b[0m\u001b[0;34m\u001b[0m\u001b[0m\n\u001b[1;32m    123\u001b[0m         \u001b[0;32mfor\u001b[0m \u001b[0midx\u001b[0m \u001b[0;32min\u001b[0m \u001b[0mself\u001b[0m\u001b[0;34m.\u001b[0m\u001b[0mstock_idx_arr\u001b[0m\u001b[0;34m:\u001b[0m\u001b[0;34m\u001b[0m\u001b[0;34m\u001b[0m\u001b[0m\n\u001b[0;32m--> 124\u001b[0;31m             \u001b[0mresults_arr\u001b[0m\u001b[0;34m[\u001b[0m\u001b[0midx\u001b[0m\u001b[0;34m]\u001b[0m \u001b[0;34m+=\u001b[0m \u001b[0mself\u001b[0m\u001b[0;34m.\u001b[0m\u001b[0mvar_dict\u001b[0m\u001b[0;34m[\u001b[0m\u001b[0;34m'w'\u001b[0m\u001b[0;34m]\u001b[0m\u001b[0;34m[\u001b[0m\u001b[0midx\u001b[0m\u001b[0;34m]\u001b[0m\u001b[0;34m\u001b[0m\u001b[0;34m\u001b[0m\u001b[0m\n\u001b[0m\u001b[1;32m    125\u001b[0m         \u001b[0;32mreturn\u001b[0m \u001b[0mself\u001b[0m\u001b[0;34m.\u001b[0m\u001b[0mstock_arr\u001b[0m\u001b[0;34m,\u001b[0m \u001b[0mresults_arr\u001b[0m\u001b[0;34m\u001b[0m\u001b[0;34m\u001b[0m\u001b[0m\n",
      "\u001b[0;31mTypeError\u001b[0m: float() argument must be a string or a number, not 'gurobipy.LinExpr'"
     ]
    }
   ],
   "source": [
    "port.get_results()"
   ]
  },
  {
   "cell_type": "code",
   "execution_count": 64,
   "metadata": {
    "ExecuteTime": {
     "end_time": "2019-10-13T05:33:24.587991Z",
     "start_time": "2019-10-13T05:33:24.508015Z"
    }
   },
   "outputs": [],
   "source": [
    "l = [port.var_dict['w'][i].x for i in port.stock_idx_arr]"
   ]
  },
  {
   "cell_type": "code",
   "execution_count": 67,
   "metadata": {
    "ExecuteTime": {
     "end_time": "2019-10-13T05:34:37.651331Z",
     "start_time": "2019-10-13T05:34:37.641121Z"
    }
   },
   "outputs": [
    {
     "data": {
      "text/plain": [
       "38"
      ]
     },
     "execution_count": 67,
     "metadata": {},
     "output_type": "execute_result"
    }
   ],
   "source": [
    "len([i for i in port.stock_idx_arr if l[i] > 1e-10])"
   ]
  },
  {
   "cell_type": "code",
   "execution_count": 69,
   "metadata": {
    "ExecuteTime": {
     "end_time": "2019-10-13T05:36:46.157909Z",
     "start_time": "2019-10-13T05:36:46.148022Z"
    }
   },
   "outputs": [
    {
     "ename": "SyntaxError",
     "evalue": "invalid syntax (<ipython-input-69-5719af9ea227>, line 1)",
     "output_type": "error",
     "traceback": [
      "\u001b[0;36m  File \u001b[0;32m\"<ipython-input-69-5719af9ea227>\"\u001b[0;36m, line \u001b[0;32m1\u001b[0m\n\u001b[0;31m    [0 for i in l if i < 1e-10 else i]\u001b[0m\n\u001b[0m                                  ^\u001b[0m\n\u001b[0;31mSyntaxError\u001b[0m\u001b[0;31m:\u001b[0m invalid syntax\n"
     ]
    }
   ],
   "source": []
  },
  {
   "cell_type": "code",
   "execution_count": null,
   "metadata": {},
   "outputs": [],
   "source": []
  }
 ],
 "metadata": {
  "kernelspec": {
   "display_name": "Python 3",
   "language": "python",
   "name": "python3"
  },
  "language_info": {
   "codemirror_mode": {
    "name": "ipython",
    "version": 3
   },
   "file_extension": ".py",
   "mimetype": "text/x-python",
   "name": "python",
   "nbconvert_exporter": "python",
   "pygments_lexer": "ipython3",
   "version": "3.7.3"
  },
  "toc": {
   "base_numbering": 1,
   "nav_menu": {},
   "number_sections": true,
   "sideBar": true,
   "skip_h1_title": false,
   "title_cell": "Table of Contents",
   "title_sidebar": "Contents",
   "toc_cell": false,
   "toc_position": {},
   "toc_section_display": true,
   "toc_window_display": false
  },
  "varInspector": {
   "cols": {
    "lenName": 16,
    "lenType": 16,
    "lenVar": 40
   },
   "kernels_config": {
    "python": {
     "delete_cmd_postfix": "",
     "delete_cmd_prefix": "del ",
     "library": "var_list.py",
     "varRefreshCmd": "print(var_dic_list())"
    },
    "r": {
     "delete_cmd_postfix": ") ",
     "delete_cmd_prefix": "rm(",
     "library": "var_list.r",
     "varRefreshCmd": "cat(var_dic_list()) "
    }
   },
   "types_to_exclude": [
    "module",
    "function",
    "builtin_function_or_method",
    "instance",
    "_Feature"
   ],
   "window_display": false
  }
 },
 "nbformat": 4,
 "nbformat_minor": 2
}
