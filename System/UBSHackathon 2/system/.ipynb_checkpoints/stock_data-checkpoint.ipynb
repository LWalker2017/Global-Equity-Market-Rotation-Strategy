{
 "cells": [
  {
   "cell_type": "code",
   "execution_count": 3,
   "metadata": {
    "ExecuteTime": {
     "end_time": "2019-10-13T05:29:45.222136Z",
     "start_time": "2019-10-13T05:29:45.216571Z"
    }
   },
   "outputs": [],
   "source": [
    "import numpy as np \n",
    "import pandas as pd \n",
    "import statsmodels.tsa.stattools\n",
    "import statsmodels.graphics.tsaplots\n",
    "import pickle \n",
    "import sys\n",
    "import time \n",
    "import warnings\n",
    "from datetime import datetime, timedelta "
   ]
  },
  {
   "cell_type": "code",
   "execution_count": 4,
   "metadata": {
    "ExecuteTime": {
     "end_time": "2019-10-13T05:29:45.396054Z",
     "start_time": "2019-10-13T05:29:45.390456Z"
    }
   },
   "outputs": [],
   "source": [
    "DATA_PATH = '../data/'\n",
    "warnings.filterwarnings('ignore')"
   ]
  },
  {
   "cell_type": "markdown",
   "metadata": {},
   "source": [
    "# Stock return and covariance"
   ]
  },
  {
   "cell_type": "code",
   "execution_count": 12,
   "metadata": {
    "ExecuteTime": {
     "end_time": "2019-10-13T01:29:12.355846Z",
     "start_time": "2019-10-13T01:29:11.875017Z"
    },
    "scrolled": false
   },
   "outputs": [
    {
     "data": {
      "text/html": [
       "<div>\n",
       "<style scoped>\n",
       "    .dataframe tbody tr th:only-of-type {\n",
       "        vertical-align: middle;\n",
       "    }\n",
       "\n",
       "    .dataframe tbody tr th {\n",
       "        vertical-align: top;\n",
       "    }\n",
       "\n",
       "    .dataframe thead th {\n",
       "        text-align: right;\n",
       "    }\n",
       "</style>\n",
       "<table border=\"1\" class=\"dataframe\">\n",
       "  <thead>\n",
       "    <tr style=\"text-align: right;\">\n",
       "      <th></th>\n",
       "      <th>2017-01-02</th>\n",
       "      <th>2017-01-03</th>\n",
       "      <th>2017-01-04</th>\n",
       "      <th>2017-01-05</th>\n",
       "      <th>2017-01-06</th>\n",
       "      <th>2017-01-09</th>\n",
       "      <th>2017-01-10</th>\n",
       "      <th>2017-01-11</th>\n",
       "      <th>2017-01-12</th>\n",
       "      <th>2017-01-13</th>\n",
       "      <th>...</th>\n",
       "      <th>2018-12-19</th>\n",
       "      <th>2018-12-20</th>\n",
       "      <th>2018-12-21</th>\n",
       "      <th>2018-12-24</th>\n",
       "      <th>2018-12-25</th>\n",
       "      <th>2018-12-26</th>\n",
       "      <th>2018-12-27</th>\n",
       "      <th>2018-12-28</th>\n",
       "      <th>2018-12-31</th>\n",
       "      <th>2019-01-01</th>\n",
       "    </tr>\n",
       "    <tr>\n",
       "      <th>Code</th>\n",
       "      <th></th>\n",
       "      <th></th>\n",
       "      <th></th>\n",
       "      <th></th>\n",
       "      <th></th>\n",
       "      <th></th>\n",
       "      <th></th>\n",
       "      <th></th>\n",
       "      <th></th>\n",
       "      <th></th>\n",
       "      <th></th>\n",
       "      <th></th>\n",
       "      <th></th>\n",
       "      <th></th>\n",
       "      <th></th>\n",
       "      <th></th>\n",
       "      <th></th>\n",
       "      <th></th>\n",
       "      <th></th>\n",
       "      <th></th>\n",
       "      <th></th>\n",
       "    </tr>\n",
       "  </thead>\n",
       "  <tbody>\n",
       "    <tr>\n",
       "      <th>AAPL UW Equity</th>\n",
       "      <td>115.82</td>\n",
       "      <td>116.15</td>\n",
       "      <td>116.02</td>\n",
       "      <td>116.61</td>\n",
       "      <td>117.91</td>\n",
       "      <td>118.99</td>\n",
       "      <td>119.11</td>\n",
       "      <td>119.75</td>\n",
       "      <td>119.25</td>\n",
       "      <td>119.04</td>\n",
       "      <td>...</td>\n",
       "      <td>160.89</td>\n",
       "      <td>156.83</td>\n",
       "      <td>150.73</td>\n",
       "      <td>146.83</td>\n",
       "      <td>146.83</td>\n",
       "      <td>157.17</td>\n",
       "      <td>156.15</td>\n",
       "      <td>156.23</td>\n",
       "      <td>157.74</td>\n",
       "      <td>157.74</td>\n",
       "    </tr>\n",
       "    <tr>\n",
       "      <th>AXP UN Equity</th>\n",
       "      <td>74.08</td>\n",
       "      <td>75.35</td>\n",
       "      <td>76.26</td>\n",
       "      <td>75.32</td>\n",
       "      <td>75.47</td>\n",
       "      <td>75.86</td>\n",
       "      <td>76.65</td>\n",
       "      <td>76.91</td>\n",
       "      <td>76.88</td>\n",
       "      <td>76.62</td>\n",
       "      <td>...</td>\n",
       "      <td>98.77</td>\n",
       "      <td>95.77</td>\n",
       "      <td>91.33</td>\n",
       "      <td>89.50</td>\n",
       "      <td>89.50</td>\n",
       "      <td>93.84</td>\n",
       "      <td>94.68</td>\n",
       "      <td>94.42</td>\n",
       "      <td>95.32</td>\n",
       "      <td>95.32</td>\n",
       "    </tr>\n",
       "    <tr>\n",
       "      <th>BA UN Equity</th>\n",
       "      <td>155.68</td>\n",
       "      <td>156.97</td>\n",
       "      <td>158.62</td>\n",
       "      <td>158.71</td>\n",
       "      <td>159.10</td>\n",
       "      <td>158.32</td>\n",
       "      <td>159.07</td>\n",
       "      <td>159.40</td>\n",
       "      <td>158.29</td>\n",
       "      <td>158.83</td>\n",
       "      <td>...</td>\n",
       "      <td>319.55</td>\n",
       "      <td>313.05</td>\n",
       "      <td>304.55</td>\n",
       "      <td>294.16</td>\n",
       "      <td>294.16</td>\n",
       "      <td>313.93</td>\n",
       "      <td>317.14</td>\n",
       "      <td>316.38</td>\n",
       "      <td>322.50</td>\n",
       "      <td>322.50</td>\n",
       "    </tr>\n",
       "    <tr>\n",
       "      <th>CAT UN Equity</th>\n",
       "      <td>92.74</td>\n",
       "      <td>93.99</td>\n",
       "      <td>93.57</td>\n",
       "      <td>93.00</td>\n",
       "      <td>93.04</td>\n",
       "      <td>92.37</td>\n",
       "      <td>93.83</td>\n",
       "      <td>94.65</td>\n",
       "      <td>93.99</td>\n",
       "      <td>94.48</td>\n",
       "      <td>...</td>\n",
       "      <td>122.33</td>\n",
       "      <td>121.55</td>\n",
       "      <td>120.07</td>\n",
       "      <td>116.95</td>\n",
       "      <td>116.95</td>\n",
       "      <td>124.76</td>\n",
       "      <td>126.67</td>\n",
       "      <td>125.61</td>\n",
       "      <td>127.07</td>\n",
       "      <td>127.07</td>\n",
       "    </tr>\n",
       "    <tr>\n",
       "      <th>CSCO UW Equity</th>\n",
       "      <td>30.22</td>\n",
       "      <td>30.54</td>\n",
       "      <td>30.10</td>\n",
       "      <td>30.17</td>\n",
       "      <td>30.23</td>\n",
       "      <td>30.18</td>\n",
       "      <td>30.38</td>\n",
       "      <td>30.15</td>\n",
       "      <td>30.04</td>\n",
       "      <td>30.07</td>\n",
       "      <td>...</td>\n",
       "      <td>43.14</td>\n",
       "      <td>42.49</td>\n",
       "      <td>41.85</td>\n",
       "      <td>40.28</td>\n",
       "      <td>40.28</td>\n",
       "      <td>42.47</td>\n",
       "      <td>42.91</td>\n",
       "      <td>42.77</td>\n",
       "      <td>43.33</td>\n",
       "      <td>43.33</td>\n",
       "    </tr>\n",
       "  </tbody>\n",
       "</table>\n",
       "<p>5 rows × 522 columns</p>\n",
       "</div>"
      ],
      "text/plain": [
       "                2017-01-02  2017-01-03  2017-01-04  2017-01-05  2017-01-06  \\\n",
       "Code                                                                         \n",
       "AAPL UW Equity      115.82      116.15      116.02      116.61      117.91   \n",
       "AXP UN Equity        74.08       75.35       76.26       75.32       75.47   \n",
       "BA UN Equity        155.68      156.97      158.62      158.71      159.10   \n",
       "CAT UN Equity        92.74       93.99       93.57       93.00       93.04   \n",
       "CSCO UW Equity       30.22       30.54       30.10       30.17       30.23   \n",
       "\n",
       "                2017-01-09  2017-01-10  2017-01-11  2017-01-12  2017-01-13  \\\n",
       "Code                                                                         \n",
       "AAPL UW Equity      118.99      119.11      119.75      119.25      119.04   \n",
       "AXP UN Equity        75.86       76.65       76.91       76.88       76.62   \n",
       "BA UN Equity        158.32      159.07      159.40      158.29      158.83   \n",
       "CAT UN Equity        92.37       93.83       94.65       93.99       94.48   \n",
       "CSCO UW Equity       30.18       30.38       30.15       30.04       30.07   \n",
       "\n",
       "                ...  2018-12-19  2018-12-20  2018-12-21  2018-12-24  \\\n",
       "Code            ...                                                   \n",
       "AAPL UW Equity  ...      160.89      156.83      150.73      146.83   \n",
       "AXP UN Equity   ...       98.77       95.77       91.33       89.50   \n",
       "BA UN Equity    ...      319.55      313.05      304.55      294.16   \n",
       "CAT UN Equity   ...      122.33      121.55      120.07      116.95   \n",
       "CSCO UW Equity  ...       43.14       42.49       41.85       40.28   \n",
       "\n",
       "                2018-12-25  2018-12-26  2018-12-27  2018-12-28  2018-12-31  \\\n",
       "Code                                                                         \n",
       "AAPL UW Equity      146.83      157.17      156.15      156.23      157.74   \n",
       "AXP UN Equity        89.50       93.84       94.68       94.42       95.32   \n",
       "BA UN Equity        294.16      313.93      317.14      316.38      322.50   \n",
       "CAT UN Equity       116.95      124.76      126.67      125.61      127.07   \n",
       "CSCO UW Equity       40.28       42.47       42.91       42.77       43.33   \n",
       "\n",
       "                2019-01-01  \n",
       "Code                        \n",
       "AAPL UW Equity      157.74  \n",
       "AXP UN Equity        95.32  \n",
       "BA UN Equity        322.50  \n",
       "CAT UN Equity       127.07  \n",
       "CSCO UW Equity       43.33  \n",
       "\n",
       "[5 rows x 522 columns]"
      ]
     },
     "execution_count": 12,
     "metadata": {},
     "output_type": "execute_result"
    }
   ],
   "source": [
    "stock_df = pd.read_csv(DATA_PATH + 'totalPrice.csv').rename(columns={'Unnamed: 0': 'Code'}).set_index('Code')\n",
    "stock_df.head()"
   ]
  },
  {
   "cell_type": "code",
   "execution_count": 13,
   "metadata": {
    "ExecuteTime": {
     "end_time": "2019-10-13T01:29:12.367886Z",
     "start_time": "2019-10-13T01:29:12.359688Z"
    }
   },
   "outputs": [
    {
     "data": {
      "text/plain": [
       "(1960, 522)"
      ]
     },
     "execution_count": 13,
     "metadata": {},
     "output_type": "execute_result"
    }
   ],
   "source": [
    "stock_df.shape"
   ]
  },
  {
   "cell_type": "code",
   "execution_count": 14,
   "metadata": {
    "ExecuteTime": {
     "end_time": "2019-10-13T01:29:12.502771Z",
     "start_time": "2019-10-13T01:29:12.371881Z"
    }
   },
   "outputs": [],
   "source": [
    "asset = stock_df.values\n",
    "A = asset[:, 0:-1]\n",
    "A_plus = asset[:, 1:]\n",
    "returns_matrix = (A_plus - A) / A\n",
    "sample_mean_returns = np.mean(returns_matrix, axis=1)\n",
    "sample_covariance_matrix = np.cov(returns_matrix)\n",
    "# np.save('covariance_matrix.npy',sample_covariance_matrix)"
   ]
  },
  {
   "cell_type": "code",
   "execution_count": 15,
   "metadata": {
    "ExecuteTime": {
     "end_time": "2019-10-13T01:29:12.629866Z",
     "start_time": "2019-10-13T01:29:12.505798Z"
    },
    "scrolled": false
   },
   "outputs": [
    {
     "name": "stdout",
     "output_type": "stream",
     "text": [
      "Stock name array looks like:\n",
      " ['AAPL UW Equity' 'AXP UN Equity' 'BA UN Equity' ... '192080 KS Equity'\n",
      " '192820 KS Equity' '316140 KS Equity']\n",
      "Stock time spam array looks like:\n",
      " ['2017-01-02' '2017-01-03' '2017-01-04' '2017-01-05' '2017-01-06'\n",
      " '2017-01-09' '2017-01-10' '2017-01-11' '2017-01-12' '2017-01-13'\n",
      " '2017-01-16' '2017-01-17' '2017-01-18' '2017-01-19' '2017-01-20'\n",
      " '2017-01-23' '2017-01-24' '2017-01-25' '2017-01-26' '2017-01-27'\n",
      " '2017-01-30' '2017-01-31' '2017-02-01' '2017-02-02' '2017-02-03'\n",
      " '2017-02-06' '2017-02-07' '2017-02-08' '2017-02-09' '2017-02-10'\n",
      " '2017-02-13' '2017-02-14' '2017-02-15' '2017-02-16' '2017-02-17'\n",
      " '2017-02-20' '2017-02-21' '2017-02-22' '2017-02-23' '2017-02-24'\n",
      " '2017-02-27' '2017-02-28' '2017-03-01' '2017-03-02' '2017-03-03'\n",
      " '2017-03-06' '2017-03-07' '2017-03-08' '2017-03-09' '2017-03-10'\n",
      " '2017-03-13' '2017-03-14' '2017-03-15' '2017-03-16' '2017-03-17'\n",
      " '2017-03-20' '2017-03-21' '2017-03-22' '2017-03-23' '2017-03-24'\n",
      " '2017-03-27' '2017-03-28' '2017-03-29' '2017-03-30' '2017-03-31'\n",
      " '2017-04-03' '2017-04-04' '2017-04-05' '2017-04-06' '2017-04-07'\n",
      " '2017-04-10' '2017-04-11' '2017-04-12' '2017-04-13' '2017-04-14'\n",
      " '2017-04-17' '2017-04-18' '2017-04-19' '2017-04-20' '2017-04-21'\n",
      " '2017-04-24' '2017-04-25' '2017-04-26' '2017-04-27' '2017-04-28'\n",
      " '2017-05-01' '2017-05-02' '2017-05-03' '2017-05-04' '2017-05-05'\n",
      " '2017-05-08' '2017-05-09' '2017-05-10' '2017-05-11' '2017-05-12'\n",
      " '2017-05-15' '2017-05-16' '2017-05-17' '2017-05-18' '2017-05-19'\n",
      " '2017-05-22' '2017-05-23' '2017-05-24' '2017-05-25' '2017-05-26'\n",
      " '2017-05-29' '2017-05-30' '2017-05-31' '2017-06-01' '2017-06-02'\n",
      " '2017-06-05' '2017-06-06' '2017-06-07' '2017-06-08' '2017-06-09'\n",
      " '2017-06-12' '2017-06-13' '2017-06-14' '2017-06-15' '2017-06-16'\n",
      " '2017-06-19' '2017-06-20' '2017-06-21' '2017-06-22' '2017-06-23'\n",
      " '2017-06-26' '2017-06-27' '2017-06-28' '2017-06-29' '2017-06-30'\n",
      " '2017-07-03' '2017-07-04' '2017-07-05' '2017-07-06' '2017-07-07'\n",
      " '2017-07-10' '2017-07-11' '2017-07-12' '2017-07-13' '2017-07-14'\n",
      " '2017-07-17' '2017-07-18' '2017-07-19' '2017-07-20' '2017-07-21'\n",
      " '2017-07-24' '2017-07-25' '2017-07-26' '2017-07-27' '2017-07-28'\n",
      " '2017-07-31' '2017-08-01' '2017-08-02' '2017-08-03' '2017-08-04'\n",
      " '2017-08-07' '2017-08-08' '2017-08-09' '2017-08-10' '2017-08-11'\n",
      " '2017-08-14' '2017-08-15' '2017-08-16' '2017-08-17' '2017-08-18'\n",
      " '2017-08-21' '2017-08-22' '2017-08-23' '2017-08-24' '2017-08-25'\n",
      " '2017-08-28' '2017-08-29' '2017-08-30' '2017-08-31' '2017-09-01'\n",
      " '2017-09-04' '2017-09-05' '2017-09-06' '2017-09-07' '2017-09-08'\n",
      " '2017-09-11' '2017-09-12' '2017-09-13' '2017-09-14' '2017-09-15'\n",
      " '2017-09-18' '2017-09-19' '2017-09-20' '2017-09-21' '2017-09-22'\n",
      " '2017-09-25' '2017-09-26' '2017-09-27' '2017-09-28' '2017-09-29'\n",
      " '2017-10-02' '2017-10-03' '2017-10-04' '2017-10-05' '2017-10-06'\n",
      " '2017-10-09' '2017-10-10' '2017-10-11' '2017-10-12' '2017-10-13'\n",
      " '2017-10-16' '2017-10-17' '2017-10-18' '2017-10-19' '2017-10-20'\n",
      " '2017-10-23' '2017-10-24' '2017-10-25' '2017-10-26' '2017-10-27'\n",
      " '2017-10-30' '2017-10-31' '2017-11-01' '2017-11-02' '2017-11-03'\n",
      " '2017-11-06' '2017-11-07' '2017-11-08' '2017-11-09' '2017-11-10'\n",
      " '2017-11-13' '2017-11-14' '2017-11-15' '2017-11-16' '2017-11-17'\n",
      " '2017-11-20' '2017-11-21' '2017-11-22' '2017-11-23' '2017-11-24'\n",
      " '2017-11-27' '2017-11-28' '2017-11-29' '2017-11-30' '2017-12-01'\n",
      " '2017-12-04' '2017-12-05' '2017-12-06' '2017-12-07' '2017-12-08'\n",
      " '2017-12-11' '2017-12-12' '2017-12-13' '2017-12-14' '2017-12-15'\n",
      " '2017-12-18' '2017-12-19' '2017-12-20' '2017-12-21' '2017-12-22'\n",
      " '2017-12-25' '2017-12-26' '2017-12-27' '2017-12-28' '2017-12-29'\n",
      " '2018-01-01' '2018-01-02' '2018-01-03' '2018-01-04' '2018-01-05'\n",
      " '2018-01-08' '2018-01-09' '2018-01-10' '2018-01-11' '2018-01-12'\n",
      " '2018-01-15' '2018-01-16' '2018-01-17' '2018-01-18' '2018-01-19'\n",
      " '2018-01-22' '2018-01-23' '2018-01-24' '2018-01-25' '2018-01-26'\n",
      " '2018-01-29' '2018-01-30' '2018-01-31' '2018-02-01' '2018-02-02'\n",
      " '2018-02-05' '2018-02-06' '2018-02-07' '2018-02-08' '2018-02-09'\n",
      " '2018-02-12' '2018-02-13' '2018-02-14' '2018-02-15' '2018-02-16'\n",
      " '2018-02-19' '2018-02-20' '2018-02-21' '2018-02-22' '2018-02-23'\n",
      " '2018-02-26' '2018-02-27' '2018-02-28' '2018-03-01' '2018-03-02'\n",
      " '2018-03-05' '2018-03-06' '2018-03-07' '2018-03-08' '2018-03-09'\n",
      " '2018-03-12' '2018-03-13' '2018-03-14' '2018-03-15' '2018-03-16'\n",
      " '2018-03-19' '2018-03-20' '2018-03-21' '2018-03-22' '2018-03-23'\n",
      " '2018-03-26' '2018-03-27' '2018-03-28' '2018-03-29' '2018-03-30'\n",
      " '2018-04-02' '2018-04-03' '2018-04-04' '2018-04-05' '2018-04-06'\n",
      " '2018-04-09' '2018-04-10' '2018-04-11' '2018-04-12' '2018-04-13'\n",
      " '2018-04-16' '2018-04-17' '2018-04-18' '2018-04-19' '2018-04-20'\n",
      " '2018-04-23' '2018-04-24' '2018-04-25' '2018-04-26' '2018-04-27'\n",
      " '2018-04-30' '2018-05-01' '2018-05-02' '2018-05-03' '2018-05-04'\n",
      " '2018-05-07' '2018-05-08' '2018-05-09' '2018-05-10' '2018-05-11'\n",
      " '2018-05-14' '2018-05-15' '2018-05-16' '2018-05-17' '2018-05-18'\n",
      " '2018-05-21' '2018-05-22' '2018-05-23' '2018-05-24' '2018-05-25'\n",
      " '2018-05-28' '2018-05-29' '2018-05-30' '2018-05-31' '2018-06-01'\n",
      " '2018-06-04' '2018-06-05' '2018-06-06' '2018-06-07' '2018-06-08'\n",
      " '2018-06-11' '2018-06-12' '2018-06-13' '2018-06-14' '2018-06-15'\n",
      " '2018-06-18' '2018-06-19' '2018-06-20' '2018-06-21' '2018-06-22'\n",
      " '2018-06-25' '2018-06-26' '2018-06-27' '2018-06-28' '2018-06-29'\n",
      " '2018-07-02' '2018-07-03' '2018-07-04' '2018-07-05' '2018-07-06'\n",
      " '2018-07-09' '2018-07-10' '2018-07-11' '2018-07-12' '2018-07-13'\n",
      " '2018-07-16' '2018-07-17' '2018-07-18' '2018-07-19' '2018-07-20'\n",
      " '2018-07-23' '2018-07-24' '2018-07-25' '2018-07-26' '2018-07-27'\n",
      " '2018-07-30' '2018-07-31' '2018-08-01' '2018-08-02' '2018-08-03'\n",
      " '2018-08-06' '2018-08-07' '2018-08-08' '2018-08-09' '2018-08-10'\n",
      " '2018-08-13' '2018-08-14' '2018-08-15' '2018-08-16' '2018-08-17'\n",
      " '2018-08-20' '2018-08-21' '2018-08-22' '2018-08-23' '2018-08-24'\n",
      " '2018-08-27' '2018-08-28' '2018-08-29' '2018-08-30' '2018-08-31'\n",
      " '2018-09-03' '2018-09-04' '2018-09-05' '2018-09-06' '2018-09-07'\n",
      " '2018-09-10' '2018-09-11' '2018-09-12' '2018-09-13' '2018-09-14'\n",
      " '2018-09-17' '2018-09-18' '2018-09-19' '2018-09-20' '2018-09-21'\n",
      " '2018-09-24' '2018-09-25' '2018-09-26' '2018-09-27' '2018-09-28'\n",
      " '2018-10-01' '2018-10-02' '2018-10-03' '2018-10-04' '2018-10-05'\n",
      " '2018-10-08' '2018-10-09' '2018-10-10' '2018-10-11' '2018-10-12'\n",
      " '2018-10-15' '2018-10-16' '2018-10-17' '2018-10-18' '2018-10-19'\n",
      " '2018-10-22' '2018-10-23' '2018-10-24' '2018-10-25' '2018-10-26'\n",
      " '2018-10-29' '2018-10-30' '2018-10-31' '2018-11-01' '2018-11-02'\n",
      " '2018-11-05' '2018-11-06' '2018-11-07' '2018-11-08' '2018-11-09'\n",
      " '2018-11-12' '2018-11-13' '2018-11-14' '2018-11-15' '2018-11-16'\n",
      " '2018-11-19' '2018-11-20' '2018-11-21' '2018-11-22' '2018-11-23'\n",
      " '2018-11-26' '2018-11-27' '2018-11-28' '2018-11-29' '2018-11-30'\n",
      " '2018-12-03' '2018-12-04' '2018-12-05' '2018-12-06' '2018-12-07'\n",
      " '2018-12-10' '2018-12-11' '2018-12-12' '2018-12-13' '2018-12-14'\n",
      " '2018-12-17' '2018-12-18' '2018-12-19' '2018-12-20' '2018-12-21'\n",
      " '2018-12-24' '2018-12-25' '2018-12-26' '2018-12-27' '2018-12-28'\n",
      " '2018-12-31' '2019-01-01']\n",
      "Covariance matrix looks like:\n",
      " [[ 2.17971036e-04  7.70686934e-05  1.00426887e-04 ...  2.89694568e-05\n",
      "   6.18735654e-05  1.41636835e-06]\n",
      " [ 7.70686934e-05  1.44502887e-04  8.74080006e-05 ... -1.03054141e-06\n",
      "   3.32275197e-05 -1.99186306e-06]\n",
      " [ 1.00426887e-04  8.74080006e-05  2.50443586e-04 ...  2.44743340e-05\n",
      "   3.45525741e-05  1.34729378e-05]\n",
      " ...\n",
      " [ 2.89694568e-05 -1.03054141e-06  2.44743340e-05 ...  7.45393581e-04\n",
      "   3.45335834e-05  2.28630179e-05]\n",
      " [ 6.18735654e-05  3.32275197e-05  3.45525741e-05 ...  3.45335834e-05\n",
      "   6.27169916e-04  7.99840284e-06]\n",
      " [ 1.41636835e-06 -1.99186306e-06  1.34729378e-05 ...  2.28630179e-05\n",
      "   7.99840284e-06  2.27815010e-04]]\n"
     ]
    }
   ],
   "source": [
    "# output stock_name_arr \n",
    "stock_name_arr = stock_df.index.to_numpy()\n",
    "print('Stock name array looks like:\\n', stock_name_arr)\n",
    "with open(DATA_PATH + 'stock_name_arr.pkl', 'wb') as file:\n",
    "    pickle.dump(stock_name_arr, file)\n",
    "\n",
    "# output time\n",
    "stock_time_arr = stock_df.T.index.to_numpy()\n",
    "print('Stock time spam array looks like:\\n', stock_time_arr)\n",
    "with open(DATA_PATH + 'stock_time_arr.pkl', 'wb') as file:\n",
    "    pickle.dump(stock_time_arr, file)\n",
    "    \n",
    "# output stock covariance\n",
    "print('Covariance matrix looks like:\\n', sample_covariance_matrix)\n",
    "with open(DATA_PATH + 'cov_mat.pkl', 'wb') as file:\n",
    "    pickle.dump(sample_covariance_matrix, file)"
   ]
  },
  {
   "cell_type": "markdown",
   "metadata": {},
   "source": [
    "# Sector and Market Info"
   ]
  },
  {
   "cell_type": "code",
   "execution_count": 16,
   "metadata": {
    "ExecuteTime": {
     "end_time": "2019-10-13T01:29:12.662410Z",
     "start_time": "2019-10-13T01:29:12.637142Z"
    }
   },
   "outputs": [],
   "source": [
    "sector_df = pd.read_csv(DATA_PATH + 'sector.csv').rename(columns={'Unnamed: 0': 'Code', 'INDUSTRY_SECTOR': 'Sector'})"
   ]
  },
  {
   "cell_type": "code",
   "execution_count": 17,
   "metadata": {
    "ExecuteTime": {
     "end_time": "2019-10-13T01:29:12.774982Z",
     "start_time": "2019-10-13T01:29:12.673689Z"
    }
   },
   "outputs": [],
   "source": [
    "sector_df['Market'] = sector_df.apply(lambda x: x.Code.split(' ')[1], axis=1)"
   ]
  },
  {
   "cell_type": "markdown",
   "metadata": {},
   "source": [
    "## Market"
   ]
  },
  {
   "cell_type": "code",
   "execution_count": 18,
   "metadata": {
    "ExecuteTime": {
     "end_time": "2019-10-13T01:29:12.790740Z",
     "start_time": "2019-10-13T01:29:12.778063Z"
    }
   },
   "outputs": [
    {
     "data": {
      "text/plain": [
       "UN    740\n",
       "UW    337\n",
       "JT    225\n",
       "CH    162\n",
       "LN    128\n",
       "KS     97\n",
       "HK     49\n",
       "IM     35\n",
       "SM     35\n",
       "MF     33\n",
       "GY     29\n",
       "CC     29\n",
       "SW     25\n",
       "SE     19\n",
       "AV      6\n",
       "UQ      5\n",
       "GA      2\n",
       "UR      2\n",
       "UA      2\n",
       "Name: Market, dtype: int64"
      ]
     },
     "execution_count": 18,
     "metadata": {},
     "output_type": "execute_result"
    }
   ],
   "source": [
    "sector_df.Market.value_counts()"
   ]
  },
  {
   "cell_type": "code",
   "execution_count": 19,
   "metadata": {
    "ExecuteTime": {
     "end_time": "2019-10-13T01:29:12.847350Z",
     "start_time": "2019-10-13T01:29:12.795176Z"
    },
    "scrolled": false
   },
   "outputs": [],
   "source": [
    "market_dict = {}\n",
    "market_arr = sector_df.Market.unique()\n",
    "for key in market_arr:\n",
    "    market_dict[key] = sector_df[sector_df.Market == key].Code.to_numpy()\n",
    "    \n",
    "with open(DATA_PATH + 'market_dict.pkl', 'wb') as file:\n",
    "    pickle.dump(market_dict, file)"
   ]
  },
  {
   "cell_type": "markdown",
   "metadata": {},
   "source": [
    "## Sector"
   ]
  },
  {
   "cell_type": "code",
   "execution_count": 20,
   "metadata": {
    "ExecuteTime": {
     "end_time": "2019-10-13T01:29:12.873721Z",
     "start_time": "2019-10-13T01:29:12.850665Z"
    }
   },
   "outputs": [
    {
     "data": {
      "text/plain": [
       "Financial                 439\n",
       "Consumer, Non-cyclical    342\n",
       "Industrial                308\n",
       "Consumer, Cyclical        283\n",
       "Technology                139\n",
       "Communications            139\n",
       "Basic Materials           127\n",
       "Utilities                  88\n",
       "Energy                     87\n",
       "Diversified                 8\n",
       "Name: Sector, dtype: int64"
      ]
     },
     "execution_count": 20,
     "metadata": {},
     "output_type": "execute_result"
    }
   ],
   "source": [
    "sector_df.Sector.value_counts()"
   ]
  },
  {
   "cell_type": "code",
   "execution_count": 21,
   "metadata": {
    "ExecuteTime": {
     "end_time": "2019-10-13T01:29:12.912188Z",
     "start_time": "2019-10-13T01:29:12.883253Z"
    }
   },
   "outputs": [],
   "source": [
    "sector_dict = {}\n",
    "sector_arr = sector_df.Sector.unique()\n",
    "for key in sector_arr:\n",
    "    sector_dict[key] = sector_df[sector_df.Sector == key].Code.to_numpy()\n",
    "    \n",
    "with open(DATA_PATH + 'sector_dict.pkl', 'wb') as file:\n",
    "    pickle.dump(sector_dict, file)"
   ]
  },
  {
   "cell_type": "markdown",
   "metadata": {},
   "source": [
    "# ARIMA"
   ]
  },
  {
   "cell_type": "code",
   "execution_count": 6,
   "metadata": {
    "ExecuteTime": {
     "end_time": "2019-10-13T05:30:00.713564Z",
     "start_time": "2019-10-13T05:30:00.689212Z"
    }
   },
   "outputs": [],
   "source": [
    "#create a series for the 1-lag difference\n",
    "def draw_acf_pacf(ts, lags=31):\n",
    "    f = plt.figure(facecolor='white')\n",
    "    ax1 = f.add_subplot(211)\n",
    "    statsmodels.graphics.tsaplots.plot_acf(ts, lags=31, ax=ax1)\n",
    "    ax2 = f.add_subplot(212)\n",
    "    statsmodels.graphics.tsaplots.plot_pacf(ts, lags=31, ax=ax2)\n",
    "    plt.show()\n",
    "\n",
    "def testStationarity(time_series):\n",
    "    dftest = statsmodels.tsa.stattools.adfuller(time_series)\n",
    "    dfoutput = pd.Series(dftest[0:4], index=['Test Statistic','p-value','#Lags Used','Number of Observations Used'])\n",
    "    for key,value in dftest[4].items():\n",
    "        dfoutput['Critical Value (%s)'%key] = value\n",
    "    return dfoutput\n",
    "\n",
    "\n",
    "def proper_model(data_ts, maxLag_p = 5, maxLag_q = 5):\n",
    "    init_aic = sys.maxsize\n",
    "    init_p = 0\n",
    "    init_q = 0\n",
    "    init_properModel = None\n",
    "    for p in np.arange(maxLag_p):\n",
    "        for q in np.arange(maxLag_q):\n",
    "            try:\n",
    "                model = statsmodels.tsa.arima_model.ARMA(data_ts, order=(p, q), freq = 'D')\n",
    "                results_ARMA = model.fit(disp=-1, method='css')\n",
    "                aic = results_ARMA.aic\n",
    "                if aic < init_aic:\n",
    "                    init_p = p\n",
    "                    init_q = q\n",
    "                    init_properModel = results_ARMA\n",
    "                    init_aic = aic\n",
    "            except:\n",
    "                continue\n",
    "            \n",
    "    return init_properModel, init_p, init_q\n",
    "\n",
    "def diff_to_stationary(ts):\n",
    "    if(testStationarity(ts)['p-value'] <= 0.05):\n",
    "        return ts,0\n",
    "    else:\n",
    "        ts_diff = ts.diff(1).dropna()\n",
    "        num = 1\n",
    "        while(testStationarity(ts_diff)['p-value'] > 0.05):\n",
    "            ts_diff = ts_diff.diff(1).dropna()\n",
    "            num += 1\n",
    "        return ts_diff, num"
   ]
  },
  {
   "cell_type": "code",
   "execution_count": 9,
   "metadata": {
    "ExecuteTime": {
     "end_time": "2019-10-13T05:30:53.636464Z",
     "start_time": "2019-10-13T05:30:53.328882Z"
    },
    "code_folding": []
   },
   "outputs": [
    {
     "name": "stdout",
     "output_type": "stream",
     "text": [
      "Code       DATE  AAPL UW Equity\n",
      "0    2017-01-02          115.82\n",
      "1    2017-01-03          116.15\n",
      "2    2017-01-04          116.02\n",
      "3    2017-01-05          116.61\n",
      "4    2017-01-06          117.91\n",
      "        DATE  AAPL UW Equity\n",
      "0 2017-01-02          115.82\n",
      "1 2017-01-03          116.15\n",
      "2 2017-01-04          116.02\n",
      "3 2017-01-05          116.61\n",
      "4 2017-01-06          117.91\n"
     ]
    },
    {
     "ename": "ValueError",
     "evalue": "sample size is too short to use selected regression component",
     "output_type": "error",
     "traceback": [
      "\u001b[0;31m---------------------------------------------------------------------------\u001b[0m",
      "\u001b[0;31mValueError\u001b[0m                                Traceback (most recent call last)",
      "\u001b[0;32m<ipython-input-9-cd893b4a1078>\u001b[0m in \u001b[0;36m<module>\u001b[0;34m\u001b[0m\n\u001b[1;32m     62\u001b[0m \u001b[0;34m\u001b[0m\u001b[0m\n\u001b[1;32m     63\u001b[0m     \u001b[0;32mreturn\u001b[0m \u001b[0mpred_dict\u001b[0m\u001b[0;34m\u001b[0m\u001b[0;34m\u001b[0m\u001b[0m\n\u001b[0;32m---> 64\u001b[0;31m \u001b[0mpred_dict\u001b[0m \u001b[0;34m=\u001b[0m \u001b[0marima_main\u001b[0m\u001b[0;34m(\u001b[0m\u001b[0mstock_df\u001b[0m\u001b[0;34m.\u001b[0m\u001b[0mhead\u001b[0m\u001b[0;34m(\u001b[0m\u001b[0;34m)\u001b[0m\u001b[0;34m)\u001b[0m\u001b[0;34m\u001b[0m\u001b[0;34m\u001b[0m\u001b[0m\n\u001b[0m",
      "\u001b[0;32m<ipython-input-9-cd893b4a1078>\u001b[0m in \u001b[0;36marima_main\u001b[0;34m(df)\u001b[0m\n\u001b[1;32m     58\u001b[0m     \u001b[0;32mfor\u001b[0m \u001b[0mcol\u001b[0m \u001b[0;32min\u001b[0m \u001b[0mcols\u001b[0m\u001b[0;34m:\u001b[0m\u001b[0;34m\u001b[0m\u001b[0;34m\u001b[0m\u001b[0m\n\u001b[1;32m     59\u001b[0m         \u001b[0mstart\u001b[0m \u001b[0;34m=\u001b[0m \u001b[0mtime\u001b[0m\u001b[0;34m.\u001b[0m\u001b[0mtime\u001b[0m\u001b[0;34m(\u001b[0m\u001b[0;34m)\u001b[0m\u001b[0;34m\u001b[0m\u001b[0;34m\u001b[0m\u001b[0m\n\u001b[0;32m---> 60\u001b[0;31m         \u001b[0mpred_dict\u001b[0m\u001b[0;34m[\u001b[0m\u001b[0mcol\u001b[0m\u001b[0;34m]\u001b[0m \u001b[0;34m=\u001b[0m \u001b[0marima_predict\u001b[0m\u001b[0;34m(\u001b[0m\u001b[0mcol\u001b[0m\u001b[0;34m)\u001b[0m\u001b[0;34m\u001b[0m\u001b[0;34m\u001b[0m\u001b[0m\n\u001b[0m\u001b[1;32m     61\u001b[0m         \u001b[0mprint\u001b[0m\u001b[0;34m(\u001b[0m\u001b[0;34m'{} costs time {}'\u001b[0m\u001b[0;34m.\u001b[0m\u001b[0mformat\u001b[0m\u001b[0;34m(\u001b[0m\u001b[0mcol\u001b[0m\u001b[0;34m,\u001b[0m \u001b[0mtime\u001b[0m\u001b[0;34m.\u001b[0m\u001b[0mtime\u001b[0m\u001b[0;34m(\u001b[0m\u001b[0;34m)\u001b[0m \u001b[0;34m-\u001b[0m \u001b[0mstart\u001b[0m\u001b[0;34m)\u001b[0m\u001b[0;34m)\u001b[0m\u001b[0;34m\u001b[0m\u001b[0;34m\u001b[0m\u001b[0m\n\u001b[1;32m     62\u001b[0m \u001b[0;34m\u001b[0m\u001b[0m\n",
      "\u001b[0;32m<ipython-input-9-cd893b4a1078>\u001b[0m in \u001b[0;36marima_predict\u001b[0;34m(ric, training_days)\u001b[0m\n\u001b[1;32m     26\u001b[0m         \u001b[0mts\u001b[0m\u001b[0;34m.\u001b[0m\u001b[0mindex\u001b[0m \u001b[0;34m=\u001b[0m \u001b[0mpd\u001b[0m\u001b[0;34m.\u001b[0m\u001b[0mto_datetime\u001b[0m\u001b[0;34m(\u001b[0m\u001b[0mclose_price\u001b[0m\u001b[0;34m.\u001b[0m\u001b[0mindex\u001b[0m\u001b[0;34m)\u001b[0m\u001b[0;34m\u001b[0m\u001b[0;34m\u001b[0m\u001b[0m\n\u001b[1;32m     27\u001b[0m \u001b[0;34m\u001b[0m\u001b[0m\n\u001b[0;32m---> 28\u001b[0;31m         \u001b[0mts_diff\u001b[0m\u001b[0;34m,\u001b[0m \u001b[0mnum_of_diff\u001b[0m \u001b[0;34m=\u001b[0m \u001b[0mdiff_to_stationary\u001b[0m\u001b[0;34m(\u001b[0m\u001b[0mts\u001b[0m\u001b[0;34m)\u001b[0m\u001b[0;34m\u001b[0m\u001b[0;34m\u001b[0m\u001b[0m\n\u001b[0m\u001b[1;32m     29\u001b[0m \u001b[0;34m\u001b[0m\u001b[0m\n\u001b[1;32m     30\u001b[0m         \u001b[0minf_lst\u001b[0m \u001b[0;34m=\u001b[0m \u001b[0mproper_model\u001b[0m\u001b[0;34m(\u001b[0m\u001b[0mts_diff\u001b[0m\u001b[0;34m)\u001b[0m\u001b[0;34m\u001b[0m\u001b[0;34m\u001b[0m\u001b[0m\n",
      "\u001b[0;32m<ipython-input-6-603bfd246a52>\u001b[0m in \u001b[0;36mdiff_to_stationary\u001b[0;34m(ts)\u001b[0m\n\u001b[1;32m     43\u001b[0m         \u001b[0mts_diff\u001b[0m \u001b[0;34m=\u001b[0m \u001b[0mts\u001b[0m\u001b[0;34m.\u001b[0m\u001b[0mdiff\u001b[0m\u001b[0;34m(\u001b[0m\u001b[0;36m1\u001b[0m\u001b[0;34m)\u001b[0m\u001b[0;34m.\u001b[0m\u001b[0mdropna\u001b[0m\u001b[0;34m(\u001b[0m\u001b[0;34m)\u001b[0m\u001b[0;34m\u001b[0m\u001b[0;34m\u001b[0m\u001b[0m\n\u001b[1;32m     44\u001b[0m         \u001b[0mnum\u001b[0m \u001b[0;34m=\u001b[0m \u001b[0;36m1\u001b[0m\u001b[0;34m\u001b[0m\u001b[0;34m\u001b[0m\u001b[0m\n\u001b[0;32m---> 45\u001b[0;31m         \u001b[0;32mwhile\u001b[0m\u001b[0;34m(\u001b[0m\u001b[0mtestStationarity\u001b[0m\u001b[0;34m(\u001b[0m\u001b[0mts_diff\u001b[0m\u001b[0;34m)\u001b[0m\u001b[0;34m[\u001b[0m\u001b[0;34m'p-value'\u001b[0m\u001b[0;34m]\u001b[0m \u001b[0;34m>\u001b[0m \u001b[0;36m0.05\u001b[0m\u001b[0;34m)\u001b[0m\u001b[0;34m:\u001b[0m\u001b[0;34m\u001b[0m\u001b[0;34m\u001b[0m\u001b[0m\n\u001b[0m\u001b[1;32m     46\u001b[0m             \u001b[0mts_diff\u001b[0m \u001b[0;34m=\u001b[0m \u001b[0mts_diff\u001b[0m\u001b[0;34m.\u001b[0m\u001b[0mdiff\u001b[0m\u001b[0;34m(\u001b[0m\u001b[0;36m1\u001b[0m\u001b[0;34m)\u001b[0m\u001b[0;34m.\u001b[0m\u001b[0mdropna\u001b[0m\u001b[0;34m(\u001b[0m\u001b[0;34m)\u001b[0m\u001b[0;34m\u001b[0m\u001b[0;34m\u001b[0m\u001b[0m\n\u001b[1;32m     47\u001b[0m             \u001b[0mnum\u001b[0m \u001b[0;34m+=\u001b[0m \u001b[0;36m1\u001b[0m\u001b[0;34m\u001b[0m\u001b[0;34m\u001b[0m\u001b[0m\n",
      "\u001b[0;32m<ipython-input-6-603bfd246a52>\u001b[0m in \u001b[0;36mtestStationarity\u001b[0;34m(time_series)\u001b[0m\n\u001b[1;32m      9\u001b[0m \u001b[0;34m\u001b[0m\u001b[0m\n\u001b[1;32m     10\u001b[0m \u001b[0;32mdef\u001b[0m \u001b[0mtestStationarity\u001b[0m\u001b[0;34m(\u001b[0m\u001b[0mtime_series\u001b[0m\u001b[0;34m)\u001b[0m\u001b[0;34m:\u001b[0m\u001b[0;34m\u001b[0m\u001b[0;34m\u001b[0m\u001b[0m\n\u001b[0;32m---> 11\u001b[0;31m     \u001b[0mdftest\u001b[0m \u001b[0;34m=\u001b[0m \u001b[0mstatsmodels\u001b[0m\u001b[0;34m.\u001b[0m\u001b[0mtsa\u001b[0m\u001b[0;34m.\u001b[0m\u001b[0mstattools\u001b[0m\u001b[0;34m.\u001b[0m\u001b[0madfuller\u001b[0m\u001b[0;34m(\u001b[0m\u001b[0mtime_series\u001b[0m\u001b[0;34m)\u001b[0m\u001b[0;34m\u001b[0m\u001b[0;34m\u001b[0m\u001b[0m\n\u001b[0m\u001b[1;32m     12\u001b[0m     \u001b[0mdfoutput\u001b[0m \u001b[0;34m=\u001b[0m \u001b[0mpd\u001b[0m\u001b[0;34m.\u001b[0m\u001b[0mSeries\u001b[0m\u001b[0;34m(\u001b[0m\u001b[0mdftest\u001b[0m\u001b[0;34m[\u001b[0m\u001b[0;36m0\u001b[0m\u001b[0;34m:\u001b[0m\u001b[0;36m4\u001b[0m\u001b[0;34m]\u001b[0m\u001b[0;34m,\u001b[0m \u001b[0mindex\u001b[0m\u001b[0;34m=\u001b[0m\u001b[0;34m[\u001b[0m\u001b[0;34m'Test Statistic'\u001b[0m\u001b[0;34m,\u001b[0m\u001b[0;34m'p-value'\u001b[0m\u001b[0;34m,\u001b[0m\u001b[0;34m'#Lags Used'\u001b[0m\u001b[0;34m,\u001b[0m\u001b[0;34m'Number of Observations Used'\u001b[0m\u001b[0;34m]\u001b[0m\u001b[0;34m)\u001b[0m\u001b[0;34m\u001b[0m\u001b[0;34m\u001b[0m\u001b[0m\n\u001b[1;32m     13\u001b[0m     \u001b[0;32mfor\u001b[0m \u001b[0mkey\u001b[0m\u001b[0;34m,\u001b[0m\u001b[0mvalue\u001b[0m \u001b[0;32min\u001b[0m \u001b[0mdftest\u001b[0m\u001b[0;34m[\u001b[0m\u001b[0;36m4\u001b[0m\u001b[0;34m]\u001b[0m\u001b[0;34m.\u001b[0m\u001b[0mitems\u001b[0m\u001b[0;34m(\u001b[0m\u001b[0;34m)\u001b[0m\u001b[0;34m:\u001b[0m\u001b[0;34m\u001b[0m\u001b[0;34m\u001b[0m\u001b[0m\n",
      "\u001b[0;32m~/anaconda3/lib/python3.7/site-packages/statsmodels/tsa/stattools.py\u001b[0m in \u001b[0;36madfuller\u001b[0;34m(x, maxlag, regression, autolag, store, regresults)\u001b[0m\n\u001b[1;32m    227\u001b[0m         \u001b[0mmaxlag\u001b[0m \u001b[0;34m=\u001b[0m \u001b[0mmin\u001b[0m\u001b[0;34m(\u001b[0m\u001b[0mnobs\u001b[0m \u001b[0;34m//\u001b[0m \u001b[0;36m2\u001b[0m \u001b[0;34m-\u001b[0m \u001b[0mntrend\u001b[0m \u001b[0;34m-\u001b[0m \u001b[0;36m1\u001b[0m\u001b[0;34m,\u001b[0m \u001b[0mmaxlag\u001b[0m\u001b[0;34m)\u001b[0m\u001b[0;34m\u001b[0m\u001b[0;34m\u001b[0m\u001b[0m\n\u001b[1;32m    228\u001b[0m         \u001b[0;32mif\u001b[0m \u001b[0mmaxlag\u001b[0m \u001b[0;34m<\u001b[0m \u001b[0;36m0\u001b[0m\u001b[0;34m:\u001b[0m\u001b[0;34m\u001b[0m\u001b[0;34m\u001b[0m\u001b[0m\n\u001b[0;32m--> 229\u001b[0;31m             raise ValueError('sample size is too short to use selected '\n\u001b[0m\u001b[1;32m    230\u001b[0m                              'regression component')\n\u001b[1;32m    231\u001b[0m     \u001b[0;32melif\u001b[0m \u001b[0mmaxlag\u001b[0m \u001b[0;34m>\u001b[0m \u001b[0mnobs\u001b[0m \u001b[0;34m//\u001b[0m \u001b[0;36m2\u001b[0m \u001b[0;34m-\u001b[0m \u001b[0mntrend\u001b[0m \u001b[0;34m-\u001b[0m \u001b[0;36m1\u001b[0m\u001b[0;34m:\u001b[0m\u001b[0;34m\u001b[0m\u001b[0;34m\u001b[0m\u001b[0m\n",
      "\u001b[0;31mValueError\u001b[0m: sample size is too short to use selected regression component"
     ]
    }
   ],
   "source": [
    "stock_df = pd.read_csv(DATA_PATH + 'totalPrice.csv').rename(columns={'Unnamed: 0': 'Code'}).set_index('Code')\n",
    "\n",
    "stock_df = stock_df.T \n",
    "stock_df.index = pd.to_datetime(stock_df.index)\n",
    "def arima_main(df):\n",
    "    cols = df.columns\n",
    "    df = df.reset_index(drop=False)\n",
    "    df.rename(columns={'index':'DATE'}, inplace = True)\n",
    "    df['DATE'] = pd.to_datetime(df['DATE'])\n",
    "    \n",
    "    def arima_predict(ric, training_days=30):\n",
    "        start = time.time()\n",
    "        close_price = df[['DATE', ric]]\n",
    "        helper = pd.DataFrame({'DATE': pd.date_range(close_price['DATE'].min(), close_price['DATE'].max())})\n",
    "        close_price = pd.merge(close_price, helper, on='DATE', how='outer').sort_values('DATE')\n",
    "        close_price[ric] = close_price[ric].interpolate(method='linear')   \n",
    "        close_price.set_index(pd.to_datetime(close_price.DATE), inplace=True) # set the index to be the DATE\n",
    "        close_price.sort_index(inplace=True)  # sort the dataframe by the newly created datetime index\n",
    "\n",
    "\n",
    "        last_date = close_price.index.to_list()[-1] - timedelta(days=training_days)\n",
    "        close_price = close_price[close_price.index >= last_date] \n",
    "        ts = close_price[ric]\n",
    "        ts.index = pd.to_datetime(close_price.index)\n",
    "\n",
    "        ts_diff, num_of_diff = diff_to_stationary(ts)\n",
    "\n",
    "        inf_lst = proper_model(ts_diff)\n",
    "        \n",
    "        current = close_price.index.to_list()[-1]\n",
    "        end_time = current\n",
    "        day1 = current + timedelta(days = 1)\n",
    "        day2 = current + timedelta(days = 2)\n",
    "        day3 = current + timedelta(days = 3)\n",
    "        day4 = current + timedelta(days = 4)\n",
    "        day5 = current + timedelta(days = 5)\n",
    "\n",
    "        try:\n",
    "            predict_ts = inf_lst[0].predict(day1, day5, dynamic=True)\n",
    "        except AttributeError:\n",
    "            print('No appropriate model')\n",
    "            return -1\n",
    "\n",
    "        for i in range(num_of_diff):\n",
    "            if(num_of_diff - i - 1 != 0):\n",
    "                predict_ts[day1] = predict_ts[day1] + ts.diff(num_of_diff - i)[end_time]\n",
    "            else:\n",
    "                predict_ts[day1] = predict_ts[day1] + ts[end_time]\n",
    "            predict_ts[day2] = predict_ts[day2] + predict_ts[day1]\n",
    "            predict_ts[day3] = predict_ts[day3] + predict_ts[day2]\n",
    "            predict_ts[day4] = predict_ts[day4] + predict_ts[day3]\n",
    "            predict_ts[day5] = predict_ts[day5] + predict_ts[day4]\n",
    "        return (predict_ts[day5] - ts[end_time]) / ts[end_time]\n",
    "    \n",
    "    pred_dict = {}\n",
    "    for col in cols:\n",
    "        start = time.time()\n",
    "        pred_dict[col] = arima_predict(col)\n",
    "        print('{} costs time {}'.format(col, time.time() - start))\n",
    "        \n",
    "    return pred_dict\n",
    "pred_dict = arima_main(stock_df)"
   ]
  },
  {
   "cell_type": "code",
   "execution_count": null,
   "metadata": {},
   "outputs": [],
   "source": []
  }
 ],
 "metadata": {
  "kernelspec": {
   "display_name": "Python 3",
   "language": "python",
   "name": "python3"
  },
  "language_info": {
   "codemirror_mode": {
    "name": "ipython",
    "version": 3
   },
   "file_extension": ".py",
   "mimetype": "text/x-python",
   "name": "python",
   "nbconvert_exporter": "python",
   "pygments_lexer": "ipython3",
   "version": "3.7.3"
  },
  "toc": {
   "base_numbering": 1,
   "nav_menu": {},
   "number_sections": true,
   "sideBar": true,
   "skip_h1_title": false,
   "title_cell": "Table of Contents",
   "title_sidebar": "Contents",
   "toc_cell": false,
   "toc_position": {},
   "toc_section_display": true,
   "toc_window_display": false
  },
  "varInspector": {
   "cols": {
    "lenName": 16,
    "lenType": 16,
    "lenVar": 40
   },
   "kernels_config": {
    "python": {
     "delete_cmd_postfix": "",
     "delete_cmd_prefix": "del ",
     "library": "var_list.py",
     "varRefreshCmd": "print(var_dic_list())"
    },
    "r": {
     "delete_cmd_postfix": ") ",
     "delete_cmd_prefix": "rm(",
     "library": "var_list.r",
     "varRefreshCmd": "cat(var_dic_list()) "
    }
   },
   "types_to_exclude": [
    "module",
    "function",
    "builtin_function_or_method",
    "instance",
    "_Feature"
   ],
   "window_display": false
  }
 },
 "nbformat": 4,
 "nbformat_minor": 2
}
